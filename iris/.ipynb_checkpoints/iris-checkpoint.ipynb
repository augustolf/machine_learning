{
 "cells": [
  {
   "cell_type": "code",
   "execution_count": 1,
   "metadata": {},
   "outputs": [
    {
     "ename": "SyntaxError",
     "evalue": "Missing parentheses in call to 'print'. Did you mean print(test_target)? (<ipython-input-1-8649999a2d6c>, line 33)",
     "output_type": "error",
     "traceback": [
      "\u001b[0;36m  File \u001b[0;32m\"<ipython-input-1-8649999a2d6c>\"\u001b[0;36m, line \u001b[0;32m33\u001b[0m\n\u001b[0;31m    print test_target\u001b[0m\n\u001b[0m                    ^\u001b[0m\n\u001b[0;31mSyntaxError\u001b[0m\u001b[0;31m:\u001b[0m Missing parentheses in call to 'print'. Did you mean print(test_target)?\n"
     ]
    }
   ],
   "source": [
    "import numpy as np\n",
    "from sklearn.datasets import load_iris\n",
    "from sklearn import tree\n",
    "\n",
    "iris = load_iris()\n",
    "\n",
    "def export_pdf(clf):\n",
    "  import graphviz\n",
    "  dot_data = tree.export_graphviz(clf, out_file=None)\n",
    "  graph = graphviz.Source(dot_data)\n",
    "  graph.render(\"iris\")\n",
    "\n",
    "  dot_data = tree.export_graphviz(clf, out_file=None, feature_names=iris.feature_names, class_names=iris.target_names, filled=True, rounded=True, special_characters=True)\n",
    "  graph = graphviz.Source(dot_data)\n",
    "  graph.render(\"iris2\")\n",
    "\n",
    "def trainAClassifierAndTestingData():\n",
    "  test_idx = [0, 50, 100]\n",
    "\n",
    "  # training data\n",
    "\n",
    "  train_target = np.delete(iris.target, test_idx)\n",
    "  train_data = np.delete(iris.data, test_idx, axis=0)\n",
    "\n",
    "  clf = tree.DecisionTreeClassifier()\n",
    "  clf.fit(train_data, train_target)\n",
    "\n",
    "  # testing data\n",
    "\n",
    "  test_target = iris.target[test_idx]\n",
    "  test_data = iris.data[test_idx]\n",
    "\n",
    "  print test_target\n",
    "  print test_data\n",
    "\n",
    "  print clf.predict(test_data)\n",
    "\n",
    "  export_pdf(clf)\n",
    "\n",
    "\n",
    "def printIrisDataSet():\n",
    "  \n",
    "\n",
    "#printIrisDataSet()\n",
    "\n",
    "trainAClassifierAndTestingData()\n",
    "\n"
   ]
  },
  {
   "cell_type": "code",
   "execution_count": null,
   "metadata": {},
   "outputs": [],
   "source": [
    "print(iris.feature_names)\n",
    "print(iris.target_names)\n",
    "print(iris.data[0])\n",
    "print(iris.target[0])\n",
    "\n",
    "for i in range(len(iris.target)):\n",
    "    print(\"Example %d: label %s, features %s\", i, iris.target[i], iris.data[i])"
   ]
  }
 ],
 "metadata": {
  "kernelspec": {
   "display_name": "Python 3",
   "language": "python",
   "name": "python3"
  },
  "language_info": {
   "codemirror_mode": {
    "name": "ipython",
    "version": 3
   },
   "file_extension": ".py",
   "mimetype": "text/x-python",
   "name": "python",
   "nbconvert_exporter": "python",
   "pygments_lexer": "ipython3",
   "version": "3.6.5"
  }
 },
 "nbformat": 4,
 "nbformat_minor": 2
}
